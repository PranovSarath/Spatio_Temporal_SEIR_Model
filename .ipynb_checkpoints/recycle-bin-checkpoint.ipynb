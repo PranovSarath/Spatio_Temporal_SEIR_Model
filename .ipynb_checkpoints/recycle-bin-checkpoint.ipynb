{
 "cells": [
  {
   "cell_type": "code",
   "execution_count": null,
   "id": "f6cf6d9b",
   "metadata": {},
   "outputs": [],
   "source": [
    "#Parameters for the model\n",
    "x = len(polyframe_3857_populated)\n",
    "beta = 0.3\n",
    "sigma = 0.1\n",
    "gamma = 0.05\n",
    "\n",
    "#Mobility Matrix - OD Matrix\n",
    "OD_M = od_matrix_normalized_weekly\n",
    "\n",
    "def fn_setInitialConditions(df_pop, initial_inf, initial_inf_index, initial_exp=0):\n",
    "    vec_size = len(df_pop)\n",
    "    I0 = [0 if i not in initial_inf_index else 50 for i in range(vec_size)]\n",
    "    E0 = [0 if i not in initial_inf_index else initial_exp for i in range(vec_size)]\n",
    "    S0 = [x-(y+z) for x, y, z in zip(df_pop['population_contribution'].tolist(), I0, E0)]\n",
    "    R0 = [0 for _ in range(x)]\n",
    "    \n",
    "    return S0, E0, I0, R0\n",
    "\n",
    "S0, E0, I0 , R0 = fn_setInitialConditions(polyframe_3857_populated, initial_inf=50, initial_inf_index=initialInd )\n",
    "y0 = np.concatenate([S0, E0, I0, R0])\n",
    "\n",
    "\n",
    "t = np.linspace(0, 60, 60)\n",
    "\n",
    "#result - solve the diff equation\n",
    "result = odeint(fn_seir_mobility_model, y0, t, args=(beta, sigma, gamma))"
   ]
  }
 ],
 "metadata": {
  "kernelspec": {
   "display_name": "Python 3 (ipykernel)",
   "language": "python",
   "name": "python3"
  },
  "language_info": {
   "codemirror_mode": {
    "name": "ipython",
    "version": 3
   },
   "file_extension": ".py",
   "mimetype": "text/x-python",
   "name": "python",
   "nbconvert_exporter": "python",
   "pygments_lexer": "ipython3",
   "version": "3.10.9"
  }
 },
 "nbformat": 4,
 "nbformat_minor": 5
}
